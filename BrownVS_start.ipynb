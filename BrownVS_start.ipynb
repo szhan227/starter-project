{
  "nbformat": 4,
  "nbformat_minor": 0,
  "metadata": {
    "colab": {
      "provenance": []
    },
    "kernelspec": {
      "name": "python3",
      "display_name": "Python 3"
    },
    "language_info": {
      "name": "python"
    },
    "accelerator": "GPU",
    "gpuClass": "standard"
  },
  "cells": [
    {
      "cell_type": "markdown",
      "source": [
        "This is a starter project about 3D abstract shape classification, using PointNet.\n",
        "\n",
        "Create by Siyang Zhang, on Jan 22, 2023."
      ],
      "metadata": {
        "id": "lIQSUo5xGBce"
      }
    },
    {
      "cell_type": "code",
      "execution_count": 1,
      "metadata": {
        "id": "YSyWMgquFfsa"
      },
      "outputs": [],
      "source": [
        "import tensorflow as tf\n",
        "import numpy as np\n",
        "from sklearn.utils import shuffle\n",
        "import pickle\n",
        "from tensorflow import keras\n",
        "from keras import layers\n",
        "from matplotlib import pyplot as plt"
      ]
    },
    {
      "cell_type": "markdown",
      "source": [
        "Part 1: Generating synthetic 3D data\n",
        "I create function to create point clouds of 7 different types of 3D shape, including: ball, cube, cylinder, cone, pyramid, ring, and torus."
      ],
      "metadata": {
        "id": "CivudGjdGMCC"
      }
    },
    {
      "cell_type": "code",
      "source": [
        "NUM_SAMPLES = 2048\n",
        "\n",
        "\n",
        "def generate_dataset(num=1000, save=False):\n",
        "    inputs = []\n",
        "    labels = []\n",
        "    for i, _ in enumerate(range(num)):\n",
        "        inputs.append(generate_ball())\n",
        "        inputs.append(generate_cube())\n",
        "        inputs.append(generate_cylinder())\n",
        "        inputs.append(generate_cone())\n",
        "        inputs.append(generate_pyramid())\n",
        "        inputs.append(generate_ring())\n",
        "        inputs.append(generate_torus())\n",
        "        labels.extend([0, 1, 2, 3, 4, 5, 6])\n",
        "        print('\\rGenerating data: {}/{}'.format(i + 1, num), end='')\n",
        "    print()\n",
        "\n",
        "    inputs = np.array(inputs)\n",
        "    labels = np.array(labels)\n",
        "    print('inputs.shape: ', inputs.shape)\n",
        "    print('labels.shape: ', labels.shape)\n",
        "    inputs, labels = shuffle(inputs, labels)\n",
        "\n",
        "    if save:\n",
        "        data = {'inputs': inputs, 'labels': labels}\n",
        "        with open(f'data3dshape_{NUM_SAMPLES}_{num * len(lb)}.p', 'wb') as f:\n",
        "            pickle.dump(data, f)\n",
        "    return inputs, labels\n",
        "\n",
        "\n",
        "def generate_ball():\n",
        "    \"\"\"\n",
        "    Generate a ball in 3D space\n",
        "    \"\"\"\n",
        "\n",
        "    result = []\n",
        "    R = np.random.uniform(0.5, 1.0)\n",
        "    for _ in range(NUM_SAMPLES):\n",
        "        theta = np.random.uniform(0, 2 * np.pi)\n",
        "        phi = np.random.uniform(0, np.pi)\n",
        "        r = np.random.uniform(0, R)\n",
        "        # r = R\n",
        "        x = r * np.sin(phi) * np.cos(theta)\n",
        "        y = r * np.sin(phi) * np.sin(theta)\n",
        "        z = r * np.cos(phi)\n",
        "        result.append([x, y, z])\n",
        "\n",
        "    return np.array(result)\n",
        "\n",
        "\n",
        "def generate_cube():\n",
        "\n",
        "    result = []\n",
        "    for _ in range(NUM_SAMPLES):\n",
        "        x = np.random.uniform(-1, 1)\n",
        "        y = np.random.uniform(-1, 1)\n",
        "        z = np.random.uniform(-1, 1)\n",
        "        result.append([x, y, z])\n",
        "\n",
        "    return np.array(result)\n",
        "\n",
        "\n",
        "def generate_cylinder():\n",
        "\n",
        "    result = []\n",
        "    r = np.random.uniform(0.1, 0.5)\n",
        "    h = np.random.uniform(0.1, 5.0)\n",
        "\n",
        "    for _ in range(NUM_SAMPLES):\n",
        "        theta = np.random.uniform(0, 2 * np.pi)\n",
        "        a = np.random.uniform(0, r)\n",
        "        z = np.random.uniform(0, h)\n",
        "        x = a * np.cos(theta)\n",
        "        y = a * np.sin(theta)\n",
        "        result.append([x, y, z])\n",
        "\n",
        "    return np.array(result)\n",
        "\n",
        "\n",
        "def generate_cone():\n",
        "    result = []\n",
        "    r = np.random.uniform(0.1, 0.5)\n",
        "    h = np.random.uniform(0.1, 5.0)\n",
        "\n",
        "    for _ in range(NUM_SAMPLES):\n",
        "        z = np.random.uniform(0, h)\n",
        "        rh = (h - z) * r / h\n",
        "        a = np.random.uniform(0, rh)\n",
        "        # a = rh\n",
        "        theta = np.random.uniform(0, 2 * np.pi)\n",
        "        x = a * np.cos(theta)\n",
        "        y = a * np.sin(theta)\n",
        "        result.append([x, y, z])\n",
        "\n",
        "    return np.array(result)\n",
        "\n",
        "\n",
        "def generate_pyramid():\n",
        "    result = []\n",
        "    a = np.random.uniform(0.1, 0.5)\n",
        "    h = np.random.uniform(0.1, 5.0)\n",
        "\n",
        "    for _ in range(NUM_SAMPLES):\n",
        "        x = np.random.uniform(-a, a)\n",
        "        y = np.random.uniform(-a, a)\n",
        "        z = np.random.uniform(0, h)\n",
        "\n",
        "        xh = (h - z) * x / h\n",
        "        yh = (h - z) * y / h\n",
        "\n",
        "        result.append([xh, yh, z])\n",
        "\n",
        "    return np.array(result)\n",
        "\n",
        "\n",
        "def generate_ring():\n",
        "    result = []\n",
        "    r = np.random.uniform(2.0, 3.0)\n",
        "    R = np.random.uniform(4.0, 5.0)\n",
        "\n",
        "    h = np.random.uniform(0.1, 1.0)\n",
        "\n",
        "    for _ in range(NUM_SAMPLES):\n",
        "\n",
        "        theta = np.random.uniform(0, 2 * np.pi)\n",
        "        a = np.random.uniform(r, R)\n",
        "        x = a * np.cos(theta)\n",
        "        y = a * np.sin(theta)\n",
        "        z = np.random.uniform(-h, h)\n",
        "\n",
        "        result.append([x, y, z])\n",
        "\n",
        "    return np.array(result)\n",
        "\n",
        "\n",
        "def generate_torus():\n",
        "    result = []\n",
        "    r = np.random.uniform(1.0, 3.0)\n",
        "    R = np.random.uniform(4.0, 5.0)\n",
        "\n",
        "    for _ in range(NUM_SAMPLES):\n",
        "\n",
        "        theta = np.random.uniform(0, 2 * np.pi)\n",
        "        phi = np.random.uniform(0, 2 * np.pi)\n",
        "        a = np.random.uniform(0, r)\n",
        "        # a = r\n",
        "        x = (R + a * np.cos(phi)) * np.cos(theta)\n",
        "        y = (R + a * np.cos(phi)) * np.sin(theta)\n",
        "        z = a * np.sin(phi)\n",
        "\n",
        "        result.append([x, y, z])\n",
        "\n",
        "    return np.array(result)"
      ],
      "metadata": {
        "id": "WftOTN0oGwnT"
      },
      "execution_count": 2,
      "outputs": []
    },
    {
      "cell_type": "markdown",
      "source": [
        "Visualization of Shape"
      ],
      "metadata": {
        "id": "K5WQ7oWqKiIb"
      }
    },
    {
      "cell_type": "code",
      "source": [
        "obj3d = generate_cone()\n",
        "ax = plt.axes(projection='3d')\n",
        "ax.scatter(obj3d[:, 0], obj3d[:, 1], obj3d[:, 2])\n",
        "plt.show()"
      ],
      "metadata": {
        "colab": {
          "base_uri": "https://localhost:8080/",
          "height": 248
        },
        "id": "E2m8lKW3KlKB",
        "outputId": "b2232124-72c4-4c84-90f8-dc023ac21573"
      },
      "execution_count": 3,
      "outputs": [
        {
          "output_type": "display_data",
          "data": {
            "text/plain": [
              "<Figure size 432x288 with 1 Axes>"
            ],
            "image/png": "[encoded data removed]"
          },
          "metadata": {
            "needs_background": "light"
          }
        }
      ]
    },
    {
      "cell_type": "markdown",
      "source": [
        "Part 2: PointNet Model\n",
        "\n",
        "based on the paper: https://arxiv.org/abs/1612.00593\n",
        "\n",
        "Reference: https://keras.io/examples/vision/pointnet/"
      ],
      "metadata": {
        "id": "6gvkGCotG7yM"
      }
    },
    {
      "cell_type": "code",
      "source": [
        "# Regularizer\n",
        "class OrthogonalRegularizer(keras.regularizers.Regularizer):\n",
        "\n",
        "    def __init__(self, n_features, l2reg=0.001):\n",
        "        self.n_features = n_features\n",
        "        self.l2reg = l2reg\n",
        "        self.eye = tf.eye(n_features)\n",
        "\n",
        "    def __call__(self, x):\n",
        "        x = tf.reshape(x, (-1, self.n_features, self.n_features))\n",
        "        xxt = tf.tensordot(x, x, axes=(2, 2))\n",
        "        xxt = tf.reshape(xxt, (-1, self.n_features, self.n_features))\n",
        "        return tf.reduce_sum(self.l2reg * tf.square(xxt - self.eye))\n",
        "\n",
        "\n",
        "# The Tnet class for featurization.\n",
        "class Tnet(tf.keras.layers.Layer):\n",
        "\n",
        "    def __init__(self, n_features):\n",
        "        super(Tnet, self).__init__()\n",
        "        self.n_features = n_features\n",
        "        self.bias = tf.constant_initializer(0.0)\n",
        "        self.reg = OrthogonalRegularizer(n_features)\n",
        "        self.conv1 = tf.keras.Sequential([\n",
        "            layers.Conv1D(32, 1, padding='valid'),\n",
        "            layers.BatchNormalization(momentum=0.0),\n",
        "            layers.Activation('relu')\n",
        "        ])\n",
        "        self.conv2 = tf.keras.Sequential([\n",
        "            layers.Conv1D(64, 1, padding='valid'),\n",
        "            layers.BatchNormalization(momentum=0.0),\n",
        "            layers.Activation('relu')\n",
        "        ])\n",
        "        self.conv3 = tf.keras.Sequential([\n",
        "            layers.Conv1D(512, 1, padding='valid'),\n",
        "            layers.BatchNormalization(momentum=0.0),\n",
        "            layers.Activation('relu')\n",
        "        ])\n",
        "        self.global_max_pooling = layers.GlobalMaxPooling1D()\n",
        "\n",
        "        self.dense1 = tf.keras.Sequential([\n",
        "            layers.Dense(256),\n",
        "            layers.BatchNormalization(momentum=0.0),\n",
        "            layers.Activation('relu')\n",
        "        ])\n",
        "        self.dense2 = tf.keras.Sequential([\n",
        "            layers.Dense(128),\n",
        "            layers.BatchNormalization(momentum=0.0),\n",
        "            layers.Activation('relu')\n",
        "        ])\n",
        "        self.dense3 = tf.keras.Sequential([\n",
        "            layers.Dense(self.n_features * self.n_features,\n",
        "                            kernel_regularizer=self.reg,\n",
        "                            bias_initializer=self.bias),\n",
        "            layers.Reshape((self.n_features, self.n_features))\n",
        "        ])\n",
        "\n",
        "        self.dt = layers.Dot(axes=(2, 1))\n",
        "\n",
        "    def call(self, inputs):\n",
        "\n",
        "        x = self.conv1(inputs)\n",
        "        x = self.conv2(x)\n",
        "        x = self.conv3(x)\n",
        "        x = self.global_max_pooling(x)\n",
        "\n",
        "        x = self.dense1(x)\n",
        "        x = self.dense2(x)\n",
        "        x = self.dense3(x)\n",
        "        return self.dt([inputs, x])\n",
        "\n",
        "# Main Model\n",
        "class PointNet(tf.keras.Model):\n",
        "\n",
        "    def __init__(self, num_class):\n",
        "        super(PointNet, self).__init__()\n",
        "        self.tnet1 = Tnet(3)\n",
        "        self.tnet2 = Tnet(64)\n",
        "\n",
        "        self.conv1 = tf.keras.Sequential([\n",
        "            layers.Conv1D(64, 1, padding='valid'),\n",
        "            layers.BatchNormalization(momentum=0.0),\n",
        "            layers.Activation('relu')\n",
        "        ])\n",
        "        self.conv2 = tf.keras.Sequential([\n",
        "            layers.Conv1D(64, 1, padding='valid'),\n",
        "            layers.BatchNormalization(momentum=0.0),\n",
        "            layers.Activation('relu')\n",
        "        ])\n",
        "        self.conv3 = tf.keras.Sequential([\n",
        "            layers.Conv1D(64, 1, padding='valid'),\n",
        "            layers.BatchNormalization(momentum=0.0),\n",
        "            layers.Activation('relu')\n",
        "        ])\n",
        "\n",
        "        self.max_pool = layers.GlobalMaxPooling1D()\n",
        "\n",
        "        self.conv4 = tf.keras.Sequential([\n",
        "            layers.Conv1D(128, 1, padding='valid'),\n",
        "            layers.BatchNormalization(momentum=0.0),\n",
        "            layers.Activation('relu')\n",
        "        ])\n",
        "        self.conv5 = tf.keras.Sequential([\n",
        "            layers.Conv1D(1024, 1, padding='valid'),\n",
        "            layers.BatchNormalization(momentum=0.0),\n",
        "            layers.Activation('relu')\n",
        "        ])\n",
        "\n",
        "        self.dense1 = tf.keras.Sequential([\n",
        "            layers.Dense(512),\n",
        "            layers.BatchNormalization(momentum=0.0),\n",
        "            layers.Activation('relu')\n",
        "        ])\n",
        "        self.dense2 = tf.keras.Sequential([\n",
        "            layers.Dense(256),\n",
        "            layers.BatchNormalization(momentum=0.0),\n",
        "            layers.Activation('relu')\n",
        "        ])\n",
        "\n",
        "        self.dropout = layers.Dropout(0.3)\n",
        "        self.classifier = layers.Dense(num_class, activation='softmax')\n",
        "\n",
        "    def call(self, inputs):\n",
        "        x = self.tnet1(inputs)\n",
        "        x = self.conv1(x)\n",
        "        x = self.conv2(x)\n",
        "        x = self.tnet2(x)\n",
        "\n",
        "        x = self.conv3(x)\n",
        "        x = self.conv4(x)\n",
        "        x = self.conv5(x)\n",
        "\n",
        "        x = self.max_pool(x)\n",
        "\n",
        "        x = self.dense1(x)\n",
        "        x = self.dense2(x)\n",
        "\n",
        "        x = self.dropout(x)\n",
        "        x = self.classifier(x)\n",
        "\n",
        "        return x"
      ],
      "metadata": {
        "id": "RS7zHKj-HIo1"
      },
      "execution_count": 10,
      "outputs": []
    },
    {
      "cell_type": "markdown",
      "source": [
        "Prepare for data and build model:"
      ],
      "metadata": {
        "id": "JBnmPHObHkyq"
      }
    },
    {
      "cell_type": "code",
      "source": [
        "# for each category, generate 500 point clouds. Thus in total 3500 pieces of point clouds.\n",
        "inputs, labels = generate_dataset(500)\n",
        "\n",
        "BATCH_SIZE = 100\n",
        "\n",
        "print(inputs.shape)\n",
        "train_inputs = inputs[:-100]\n",
        "train_labels = labels[:-100]\n",
        "test_inputs = inputs[-100:]\n",
        "test_labels = labels[-100:]\n",
        "\n",
        "train_dataset = tf.data.Dataset.from_tensor_slices((train_inputs, train_labels))\n",
        "test_dataset = tf.data.Dataset.from_tensor_slices((test_inputs, test_labels))\n",
        "\n"
      ],
      "metadata": {
        "colab": {
          "base_uri": "https://localhost:8080/"
        },
        "id": "yIw7O7PBHpF3",
        "outputId": "353fcd36-e35e-41a9-d041-bbc5a0ed9c16"
      },
      "execution_count": 29,
      "outputs": [
        {
          "output_type": "stream",
          "name": "stdout",
          "text": [
            "Generating data: 500/500\n",
            "inputs.shape:  (3500, 2048, 3)\n",
            "labels.shape:  (3500,)\n",
            "(3500, 2048, 3)\n"
          ]
        }
      ]
    },
    {
      "cell_type": "markdown",
      "source": [
        "Build Model"
      ],
      "metadata": {
        "id": "qMhmaluuIPTa"
      }
    },
    {
      "cell_type": "code",
      "source": [
        "train_dataset = train_dataset.shuffle(len(train_inputs)).batch(BATCH_SIZE)\n",
        "test_dataset = test_dataset.shuffle(len(test_inputs)).batch(BATCH_SIZE)\n",
        "model = PointNet(num_class=7)\n",
        "model.compile(optimizer=tf.keras.optimizers.Adam(learning_rate=0.001),\n",
        "              loss=tf.keras.losses.SparseCategoricalCrossentropy(),\n",
        "              metrics=['accuracy'])"
      ],
      "metadata": {
        "id": "xUqeq4b6IvT5"
      },
      "execution_count": 30,
      "outputs": []
    },
    {
      "cell_type": "code",
      "source": [
        "model.fit(train_dataset, epochs=20, batch_size=BATCH_SIZE, validation_data=test_dataset)"
      ],
      "metadata": {
        "colab": {
          "base_uri": "https://localhost:8080/"
        },
        "id": "Eb0m_2EOIxZU",
        "outputId": "abf54787-3203-473b-d435-71275060c032"
      },
      "execution_count": 31,
      "outputs": [
        {
          "output_type": "stream",
          "name": "stdout",
          "text": [
            "Epoch 1/20\n",
            "34/34 [==============================] - 28s 661ms/step - loss: 1082.3124 - accuracy: 0.6406 - val_loss: 1043.1254 - val_accuracy: 0.7100\n",
            "Epoch 2/20\n",
            "34/34 [==============================] - 22s 642ms/step - loss: 992.4476 - accuracy: 0.7079 - val_loss: 939.5298 - val_accuracy: 0.6800\n",
            "Epoch 3/20\n",
            "34/34 [==============================] - 22s 635ms/step - loss: 895.2019 - accuracy: 0.7479 - val_loss: 853.1039 - val_accuracy: 0.8300\n",
            "Epoch 4/20\n",
            "34/34 [==============================] - 22s 636ms/step - loss: 823.9199 - accuracy: 0.8268 - val_loss: 798.6360 - val_accuracy: 0.8500\n",
            "Epoch 5/20\n",
            "34/34 [==============================] - 22s 647ms/step - loss: 784.3256 - accuracy: 0.8585 - val_loss: 773.1559 - val_accuracy: 0.8600\n",
            "Epoch 6/20\n",
            "34/34 [==============================] - 22s 638ms/step - loss: 767.7516 - accuracy: 0.8815 - val_loss: 763.9000 - val_accuracy: 0.8300\n",
            "Epoch 7/20\n",
            "34/34 [==============================] - 22s 634ms/step - loss: 761.5938 - accuracy: 0.8874 - val_loss: 759.6409 - val_accuracy: 0.9200\n",
            "Epoch 8/20\n",
            "34/34 [==============================] - 22s 648ms/step - loss: 758.1975 - accuracy: 0.9309 - val_loss: 756.7228 - val_accuracy: 0.9300\n",
            "Epoch 9/20\n",
            "34/34 [==============================] - 22s 635ms/step - loss: 755.4126 - accuracy: 0.9518 - val_loss: 754.1053 - val_accuracy: 0.9700\n",
            "Epoch 10/20\n",
            "34/34 [==============================] - 22s 647ms/step - loss: 753.1609 - accuracy: 0.9412 - val_loss: 752.1292 - val_accuracy: 0.9600\n",
            "Epoch 11/20\n",
            "34/34 [==============================] - 22s 638ms/step - loss: 751.4210 - accuracy: 0.9641 - val_loss: 750.7141 - val_accuracy: 0.9900\n",
            "Epoch 12/20\n",
            "34/34 [==============================] - 22s 634ms/step - loss: 750.2390 - accuracy: 0.9747 - val_loss: 749.7469 - val_accuracy: 0.9800\n",
            "Epoch 13/20\n",
            "34/34 [==============================] - 22s 649ms/step - loss: 749.3990 - accuracy: 0.9738 - val_loss: 749.0472 - val_accuracy: 0.9600\n",
            "Epoch 14/20\n",
            "34/34 [==============================] - 22s 641ms/step - loss: 748.7181 - accuracy: 0.9709 - val_loss: 748.3479 - val_accuracy: 0.9900\n",
            "Epoch 15/20\n",
            "34/34 [==============================] - 22s 634ms/step - loss: 748.0815 - accuracy: 0.9718 - val_loss: 747.7386 - val_accuracy: 0.9700\n",
            "Epoch 16/20\n",
            "34/34 [==============================] - 22s 636ms/step - loss: 747.4277 - accuracy: 0.9841 - val_loss: 747.1445 - val_accuracy: 0.9600\n",
            "Epoch 17/20\n",
            "34/34 [==============================] - 22s 640ms/step - loss: 746.8129 - accuracy: 0.9818 - val_loss: 746.4534 - val_accuracy: 1.0000\n",
            "Epoch 18/20\n",
            "34/34 [==============================] - 22s 647ms/step - loss: 746.1968 - accuracy: 0.9882 - val_loss: 745.8869 - val_accuracy: 0.9900\n",
            "Epoch 19/20\n",
            "34/34 [==============================] - 22s 636ms/step - loss: 745.6183 - accuracy: 0.9874 - val_loss: 745.4790 - val_accuracy: 0.9200\n",
            "Epoch 20/20\n",
            "34/34 [==============================] - 22s 634ms/step - loss: 745.0837 - accuracy: 0.9771 - val_loss: 744.8707 - val_accuracy: 0.9600\n"
          ]
        },
        {
          "output_type": "execute_result",
          "data": {
            "text/plain": [
              "<keras.callbacks.History at 0x7f1686ffc820>"
            ]
          },
          "metadata": {},
          "execution_count": 31
        }
      ]
    },
    {
      "cell_type": "code",
      "source": [
        "cone = generate_cone()\n",
        "torus = generate_torus()\n",
        "\n",
        "cone = tf.convert_to_tensor(cone)\n",
        "cone = tf.expand_dims(cone, 0)\n",
        "print(cone.shape)\n",
        "probs = model(cone)\n",
        "print(probs)\n",
        "print(tf.argmax(probs[0]))\n",
        "\n",
        "torus = tf.convert_to_tensor(torus)\n",
        "torus = tf.expand_dims(torus, 0)\n",
        "print(torus.shape)\n",
        "probs = model(torus)\n",
        "print(probs)\n",
        "print(tf.argmax(probs[0]))\n",
        "\n",
        "\n",
        "\n"
      ],
      "metadata": {
        "colab": {
          "base_uri": "https://localhost:8080/"
        },
        "id": "PDCtFmZ1LRRQ",
        "outputId": "fc84bccb-36df-4224-b059-1adce09b53d0"
      },
      "execution_count": 35,
      "outputs": [
        {
          "output_type": "stream",
          "name": "stdout",
          "text": [
            "(1, 2048, 3)\n",
            "tf.Tensor(\n",
            "[[2.5514164e-04 1.0589239e-04 3.7941757e-01 6.1618108e-01 3.2864586e-03\n",
            "  3.1815239e-04 4.3573332e-04]], shape=(1, 7), dtype=float32)\n",
            "tf.Tensor(3, shape=(), dtype=int64)\n",
            "(1, 2048, 3)\n",
            "tf.Tensor(\n",
            "[[4.0183142e-05 7.6681581e-06 2.6240823e-05 9.5175972e-05 1.9414618e-04\n",
            "  3.9674153e-04 9.9923992e-01]], shape=(1, 7), dtype=float32)\n",
            "tf.Tensor(6, shape=(), dtype=int64)\n"
          ]
        }
      ]
    }
  ]
}